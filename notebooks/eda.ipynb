{
 "cells": [
  {
   "cell_type": "code",
   "execution_count": null,
   "id": "cf2464a8",
   "metadata": {
    "vscode": {
     "languageId": "plaintext"
    }
   },
   "outputs": [],
   "source": [
    "import pandas as pd\n",
    "import matplotlib.pyplot as plt\n",
    "import seaborn as sns\n",
    "import plotly.express as px\n",
    "import plotly.graph_objects as go\n",
    "\n",
    "# Load processed data\n",
    "df = pd.read_csv('data/processed/customer_features.csv')\n",
    "\n",
    "# Set style\n",
    "plt.style.use('seaborn')\n",
    "sns.set_palette(\"husl\")\n",
    "\n",
    "# 1. Customer Distribution Analysis\n",
    "fig, axes = plt.subplots(2, 2, figsize=(15, 10))\n",
    "\n",
    "# Age distribution\n",
    "axes[0,0].hist(df['age'], bins=30, alpha=0.7)\n",
    "axes[0,0].set_title('Age Distribution')\n",
    "axes[0,0].set_xlabel('Age')\n",
    "\n",
    "# Income distribution\n",
    "axes[0,1].hist(np.log(df['income']), bins=30, alpha=0.7)\n",
    "axes[0,1].set_title('Income Distribution (Log Scale)')\n",
    "axes[0,1].set_xlabel('Log(Income)')\n",
    "\n",
    "# Total spent distribution\n",
    "axes[1,0].hist(df['total_spent'], bins=30, alpha=0.7)\n",
    "axes[1,0].set_title('Total Spent Distribution')\n",
    "axes[1,0].set_xlabel('Total Spent ($)')\n",
    "\n",
    "# CLV distribution\n",
    "axes[1,1].hist(df['clv'], bins=30, alpha=0.7)\n",
    "axes[1,1].set_title('Customer Lifetime Value Distribution')\n",
    "axes[1,1].set_xlabel('CLV ($)')\n",
    "\n",
    "plt.tight_layout()\n",
    "plt.show()\n",
    "\n",
    "# 2. Correlation Analysis\n",
    "correlation_matrix = df[['age', 'income', 'total_spent', 'avg_order_value', \n",
    "                        'order_count', 'monthly_sessions', 'clv']].corr()\n",
    "\n",
    "plt.figure(figsize=(10, 8))\n",
    "sns.heatmap(correlation_matrix, annot=True, cmap='coolwarm', center=0)\n",
    "plt.title('Feature Correlation Matrix')\n",
    "plt.show()\n",
    "\n",
    "# 3. Interactive Plotly visualizations\n",
    "# Age vs CLV scatter plot\n",
    "fig = px.scatter(df, x='age', y='clv', color='gender', \n",
    "                title='Customer Lifetime Value by Age and Gender')\n",
    "fig.show()\n",
    "\n",
    "# Monthly sessions vs Total spent\n",
    "fig = px.scatter(df, x='monthly_sessions', y='total_spent', \n",
    "                size='order_count', color='clv',\n",
    "                title='Web Activity vs Purchase Behavior')\n",
    "fig.show()\n"
   ]
  }
 ],
 "metadata": {
  "language_info": {
   "name": "python"
  }
 },
 "nbformat": 4,
 "nbformat_minor": 5
}
